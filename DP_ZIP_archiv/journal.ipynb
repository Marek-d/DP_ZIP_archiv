{
 "cells": [
  {
   "cell_type": "code",
   "execution_count": null,
   "metadata": {},
   "outputs": [],
   "source": [
    "import pandas as pd"
   ]
  },
  {
   "cell_type": "code",
   "execution_count": null,
   "metadata": {},
   "outputs": [],
   "source": [
    "techniques = [\"T1003.002-1\", \"T1053.005-1\", \"T1569.002-1\", \"T1082-1\", \"T1036-1\", \"T1090.001-3\", \"T1078.001-2\", \"T1112-1\", \"T1562-1\", \"T1112-4\"]\n",
    "\n",
    "for tech in techniques:\n",
    "    data = pd.read_csv(f\"d:/UPJS_STUDY/MGR/diplomovka/csv_artifacts/artwithsysmon_1000x/{tech}/Journal/Journal_output_{tech}_1000x.csv\")\n",
    "    data = data.drop([\n",
    "            \"Extension\",\n",
    "            \"EntryNumber\",\n",
    "            \"SequenceNumber\",\n",
    "            \"ParentEntryNumber\",\n",
    "            \"ParentSequenceNumber\",\n",
    "            \"ParentPath\",\n",
    "            \"UpdateTimestamp\",\n",
    "            \"OffsetToData\",\n",
    "            \"SourceFile\"\n",
    "        ], axis=1\n",
    "    )\n",
    "\n",
    "    sorted_data = data.sort_values(by=['UpdateSequenceNumber'])\n",
    "    date_start = ''\n",
    "    date_end = ''\n",
    "\n",
    "    df = pd.DataFrame(columns=['Name', 'UpdateSequenceNumber', 'UpdateReasons', 'FileAttributes', 'ID_run'])\n",
    "\n",
    "    counter = 1\n",
    "\n",
    "    for index, row in sorted_data.iterrows():\n",
    "        if \"MyTestFileStart\" in row['Name']:\n",
    "            date_start = row['UpdateSequenceNumber']\n",
    "\n",
    "        if \"MyTestFileEnd\" in row['Name']:\n",
    "            date_end = row['UpdateSequenceNumber']\n",
    "        \n",
    "        if date_start and date_end:\n",
    "            mask = (\n",
    "                (sorted_data['UpdateSequenceNumber'] > date_start) & (sorted_data['UpdateSequenceNumber'] < date_end)\n",
    "            )\n",
    "\n",
    "            subset = sorted_data.loc[mask]\n",
    "            array = [counter] * len(subset)\n",
    "            subset.loc[:, 'ID_run'] = list(array)\n",
    "\n",
    "            df = pd.concat([df, subset])\n",
    "\n",
    "            date_start = ''\n",
    "            date_end = ''\n",
    "            counter = counter + 1\n",
    "\n",
    "    df.to_csv(f\"./artifacts_small_journal_1000x/{tech}_small.csv\")"
   ]
  }
 ],
 "metadata": {
  "language_info": {
   "name": "python"
  }
 },
 "nbformat": 4,
 "nbformat_minor": 2
}
