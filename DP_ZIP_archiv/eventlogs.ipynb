{
 "cells": [
  {
   "cell_type": "code",
   "execution_count": null,
   "metadata": {},
   "outputs": [],
   "source": [
    "import pandas as pd"
   ]
  },
  {
   "cell_type": "code",
   "execution_count": null,
   "metadata": {},
   "outputs": [],
   "source": [
    "techniques = [\"T1003.002-1\", \"T1053.005-1\", \"T1569.002-1\", \"T1082-1\", \"T1036-1\", \"T1090.001-3\", \"T1078.001-2\", \"T1112-1\", \"T1562-1\", \"T1112-4\"]\n",
    "\n",
    "for tech in techniques:\n",
    "    data = pd.read_csv(f\"d:/UPJS_STUDY/MGR/diplomovka/csv_artifacts/artwithsysmon_1000x/{tech}/EventLogs/EventLogs_output_{tech}_1000x.csv\")\n",
    "    data = data.drop([\n",
    "            \"RecordNumber\",\n",
    "            \"EventRecordId\",\n",
    "            \"Channel\",\n",
    "            \"ProcessId\",\n",
    "            \"ThreadId\",\n",
    "            \"Computer\",\n",
    "            \"ChunkNumber\",\n",
    "            \"UserId\",\n",
    "            \"MapDescription\",\n",
    "            \"UserName\",\n",
    "            \"RemoteHost\",\n",
    "            \"PayloadData1\",\n",
    "            \"PayloadData2\",\n",
    "            \"PayloadData3\",\n",
    "            \"PayloadData4\",\n",
    "            \"PayloadData5\",\n",
    "            \"PayloadData6\",\n",
    "            \"ExecutableInfo\",\n",
    "            \"HiddenRecord\",\n",
    "            \"SourceFile\",\n",
    "            \"ExtraDataOffset\"\n",
    "        ], axis=1\n",
    "    )\n",
    "\n",
    "    sorted_data = data.sort_values(by=['TimeCreated'])\n",
    "    # sorted_data.iloc[[0, -1]]\n",
    "\n",
    "    # filter only rows between MYSCRIPTSTART and MYSCRIPTEND\n",
    "    date_start = ''\n",
    "    date_end = ''\n",
    "\n",
    "    df = pd.DataFrame(columns=['TimeCreated', 'EventId', 'Level', 'Provider', 'Keywords', 'Payload', 'ID_run'])\n",
    "    counter = 1\n",
    "\n",
    "    for index, row in sorted_data.iterrows():   \n",
    "        if row['Provider'] == 'MYSCRIPTSTART':\n",
    "            date_start = row['TimeCreated']\n",
    "            \n",
    "        if row['Provider'] == 'MYSCRIPTEND':\n",
    "            date_end = row['TimeCreated']\n",
    "        \n",
    "        if date_start and date_end:\n",
    "            mask = (sorted_data['TimeCreated'] > date_start) & (sorted_data['TimeCreated'] < date_end)\n",
    "            subset = sorted_data.loc[mask]\n",
    "            array = [counter] * len(subset) \n",
    "            subset.loc[:, 'ID_run'] = list(array)\n",
    "\n",
    "            df = pd.concat([df, subset])\n",
    "            \n",
    "            date_start = ''\n",
    "            date_end = ''\n",
    "            counter = counter + 1\n",
    "\n",
    "    df.to_csv(f\"./artifacts_small_1000x/{tech}_small.csv\")"
   ]
  }
 ],
 "metadata": {
  "language_info": {
   "name": "python"
  }
 },
 "nbformat": 4,
 "nbformat_minor": 2
}
