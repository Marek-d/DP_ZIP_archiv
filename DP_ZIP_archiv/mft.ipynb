{
 "cells": [
  {
   "cell_type": "code",
   "execution_count": null,
   "metadata": {},
   "outputs": [],
   "source": [
    "import pandas as pd"
   ]
  },
  {
   "cell_type": "code",
   "execution_count": null,
   "metadata": {},
   "outputs": [],
   "source": [
    "techniques = [\"T1003.002-1\", \"T1053.005-1\", \"T1569.002-1\", \"T1082-1\", \"T1036-1\", \"T1090.001-3\", \"T1078.001-2\", \"T1112-1\", \"T1562-1\", \"T1112-4\"]\n",
    "\n",
    "for tech in techniques:\n",
    "    data = pd.read_csv(f\"d:/UPJS_STUDY/MGR/diplomovka/csv_artifacts/artwithsysmon_1000x/{tech}/MFT/MFT_output_{tech}_1000x.csv\")\n",
    "    data = data.drop([\n",
    "        \"EntryNumber\",\n",
    "        \"SequenceNumber\",\n",
    "        \"InUse\",\n",
    "        \"ParentEntryNumber\",\n",
    "        \"ParentSequenceNumber\",\n",
    "        \"ParentPath\",\n",
    "        \"Extension\",\n",
    "        \"FileSize\",\n",
    "        \"ReferenceCount\",\n",
    "        \"ReparseTarget\",\n",
    "        \"NameType\",\n",
    "        \"Created0x30\",\n",
    "        \"LastModified0x30\",\n",
    "        \"LastRecordChange0x30\",\n",
    "        \"LastAccess0x30\",\n",
    "        \"UpdateSequenceNumber\",\n",
    "        \"LogfileSequenceNumber\",\n",
    "        \"SecurityId\",\n",
    "        \"ObjectIdFileDroid\",\n",
    "        \"LoggedUtilStream\",\n",
    "        \"ZoneIdContents\"\n",
    "    ], axis=1)\n",
    "\n",
    "    df = pd.DataFrame(columns=['FileName', 'IsDirectory', 'HasAds', 'IsAds', 'SI<FN', 'uSecZeros', 'Copied', 'SiFlags', 'Created0x10', 'LastModified0x10', 'LastRecordChange0x10', 'LastAccess0x10', 'ID_run'])\n",
    "\n",
    "    for i in range(1000):\n",
    "        start_row = data.loc[data['FileName'] == f\"MyTestFileStart-{i}.txt\"]\n",
    "        end_row = data.loc[data['FileName'] == f\"MyTestFileEnd-{i}.txt\"]\n",
    "        \n",
    "        created_date_start = start_row['Created0x10'].tolist()[0]\n",
    "        modified_date_start = start_row['LastModified0x10'].tolist()[0]\n",
    "        change_date_start = start_row['LastRecordChange0x10'].tolist()[0]\n",
    "        access_date_start = start_row['LastAccess0x10'].tolist()[0]\n",
    "\n",
    "        created_date_end = end_row['Created0x10'].tolist()[0]\n",
    "        modified_date_end = end_row['LastModified0x10'].tolist()[0]\n",
    "        change_date_end = end_row['LastRecordChange0x10'].tolist()[0]\n",
    "        access_date_end = end_row['LastAccess0x10'].tolist()[0]\n",
    "\n",
    "        mask = (\n",
    "            ((data['Created0x10'] > created_date_start) & (data['Created0x10'] < created_date_end)) |\n",
    "            ((data['LastModified0x10'] > modified_date_start) & (data['LastModified0x10'] < modified_date_end)) |\n",
    "            ((data['LastRecordChange0x10'] > change_date_start) & (data['LastRecordChange0x10'] < change_date_end)) |\n",
    "            ((data['LastAccess0x10'] > access_date_start) & (data['LastAccess0x10'] < access_date_end))\n",
    "        )\n",
    "\n",
    "        subset = data.loc[mask]\n",
    "        array = [i] * len(subset)\n",
    "        subset.loc[:, 'ID_run'] = list(array)\n",
    "\n",
    "        df = pd.concat([df, subset])\n",
    "        # df = df.drop_duplicates()\n",
    "    \n",
    "    df.to_csv(f\"./artifacts_small_mft_1000x/{tech}_small.csv\")"
   ]
  }
 ],
 "metadata": {
  "language_info": {
   "name": "python"
  }
 },
 "nbformat": 4,
 "nbformat_minor": 2
}
