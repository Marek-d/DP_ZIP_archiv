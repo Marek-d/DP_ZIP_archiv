{
 "cells": [
  {
   "cell_type": "code",
   "execution_count": null,
   "metadata": {},
   "outputs": [],
   "source": [
    "import pandas as pd"
   ]
  },
  {
   "cell_type": "code",
   "execution_count": null,
   "metadata": {},
   "outputs": [],
   "source": [
    "techniques = [\"T1003.002-1\", \"T1053.005-1\", \"T1569.002-1\", \"T1082-1\", \"T1036-1\", \"T1090.001-3\", \"T1078.001-2\", \"T1112-1\", \"T1562-1\", \"T1112-4\"]\n",
    "sumarize = pd.DataFrame()\n",
    "\n",
    "for tech in techniques:\n",
    "    data_small = pd.read_csv(f\"./artifacts_small_journal_1000x/{tech}_small.csv\")\n",
    "    data_small = data_small.drop([\n",
    "        'Unnamed: 0',\n",
    "        'Name',\n",
    "        'UpdateSequenceNumber'\n",
    "        ], axis=1)\n",
    "    data_small = data_small.drop_duplicates(subset=['UpdateReasons', 'FileAttributes', 'ID_run'])\n",
    "    data_small = data_small.groupby(['UpdateReasons', 'FileAttributes']).count().sort_values(by=['ID_run'], ascending=False)\n",
    "    data_small = data_small.rename(columns={'ID_run': tech})\n",
    "\n",
    "    data_small.to_csv(f\"./withsys_1000x_journal/{tech}_1000x_uniques.csv\")"
   ]
  },
  {
   "cell_type": "code",
   "execution_count": null,
   "metadata": {},
   "outputs": [],
   "source": [
    "techniques = [\"T1053.005-1\", \"T1569.002-1\", \"T1082-1\", \"T1036-1\", \"T1090.001-3\", \"T1078.001-2\", \"T1112-1\", \"T1562-1\", \"T1112-4\"]\n",
    "\n",
    "df1 = pd.read_csv('./withsys_1000x_journal/T1003.002-1_1000x_uniques.csv')\n",
    "\n",
    "for tech in techniques:\n",
    "    df2 = pd.read_csv(f\"./withsys_1000x_journal/{tech}_1000x_uniques.csv\")\n",
    "    df_all = df1.merge(df2.drop_duplicates(), on=['UpdateReasons', 'FileAttributes'], how='outer', indicator=False)\n",
    "    df1 = df_all\n",
    "\n",
    "df1.to_csv('./withsys_1000x_journal/all_counts_in_1000_runs_journal.csv')"
   ]
  }
 ],
 "metadata": {
  "language_info": {
   "name": "python"
  }
 },
 "nbformat": 4,
 "nbformat_minor": 2
}
